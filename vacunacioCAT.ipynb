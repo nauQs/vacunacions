{
 "cells": [
  {
   "cell_type": "markdown",
   "metadata": {},
   "source": [
    "# Vacunacions"
   ]
  },
  {
   "cell_type": "code",
   "execution_count": 100,
   "metadata": {},
   "outputs": [],
   "source": [
    "import pandas as pd\n",
    "import numpy as np\n",
    "from datetime import datetime, timedelta\n",
    "\n",
    "import matplotlib.pyplot as plt\n",
    "import seaborn as sns\n",
    "\n",
    "from io import BytesIO\n",
    "from zipfile import ZipFile\n",
    "from urllib.request import urlopen"
   ]
  },
  {
   "cell_type": "code",
   "execution_count": 105,
   "metadata": {},
   "outputs": [],
   "source": [
    "url = \"https://dadescovid.cat/static/csv/catalunya_diari_total_pob.zip\"\n",
    "    \n",
    "resp = urlopen(url)\n",
    "zipfile = ZipFile(BytesIO(resp.read()))\n",
    "df = pd.read_csv(zipfile.open(zipfile.namelist()[0]), sep=\";\")\n",
    "df[\"DATA\"] = df.DATA.astype('datetime64[ns]')\n",
    "df = df[df.DATA>datetime(2021, 1, 1)]"
   ]
  },
  {
   "cell_type": "code",
   "execution_count": 106,
   "metadata": {},
   "outputs": [
    {
     "data": {
      "text/html": [
       "<div>\n",
       "<style scoped>\n",
       "    .dataframe tbody tr th:only-of-type {\n",
       "        vertical-align: middle;\n",
       "    }\n",
       "\n",
       "    .dataframe tbody tr th {\n",
       "        vertical-align: top;\n",
       "    }\n",
       "\n",
       "    .dataframe thead th {\n",
       "        text-align: right;\n",
       "    }\n",
       "</style>\n",
       "<table border=\"1\" class=\"dataframe\">\n",
       "  <thead>\n",
       "    <tr style=\"text-align: right;\">\n",
       "      <th></th>\n",
       "      <th>NOM</th>\n",
       "      <th>CODI</th>\n",
       "      <th>DATA</th>\n",
       "      <th>SEXE</th>\n",
       "      <th>GRUP_EDAT</th>\n",
       "      <th>CASOS_CONFIRMAT</th>\n",
       "      <th>PCR</th>\n",
       "      <th>TAR</th>\n",
       "      <th>INGRESSOS_TOTAL</th>\n",
       "      <th>INGRESSOS_CRITIC</th>\n",
       "      <th>...</th>\n",
       "      <th>INGRESSATS_CRITIC</th>\n",
       "      <th>EXITUS</th>\n",
       "      <th>CASOS_PCR</th>\n",
       "      <th>CASOS_TAR</th>\n",
       "      <th>POSITIVITAT_PCR_NUM</th>\n",
       "      <th>POSITIVITAT_TAR_NUM</th>\n",
       "      <th>POSITIVITAT_PCR_DEN</th>\n",
       "      <th>POSITIVITAT_TAR_DEN</th>\n",
       "      <th>VACUNATS_DOSI_1</th>\n",
       "      <th>VACUNATS_DOSI_2</th>\n",
       "    </tr>\n",
       "  </thead>\n",
       "  <tbody>\n",
       "    <tr>\n",
       "      <th>0</th>\n",
       "      <td>CATALUNYA</td>\n",
       "      <td>GLOBAL</td>\n",
       "      <td>2021-04-26</td>\n",
       "      <td>Altres</td>\n",
       "      <td>NaN</td>\n",
       "      <td>17</td>\n",
       "      <td>5</td>\n",
       "      <td>3</td>\n",
       "      <td>0</td>\n",
       "      <td>16</td>\n",
       "      <td>...</td>\n",
       "      <td>18</td>\n",
       "      <td>0</td>\n",
       "      <td>2</td>\n",
       "      <td>15</td>\n",
       "      <td>0</td>\n",
       "      <td>1</td>\n",
       "      <td>4</td>\n",
       "      <td>3</td>\n",
       "      <td>76</td>\n",
       "      <td>16</td>\n",
       "    </tr>\n",
       "    <tr>\n",
       "      <th>1</th>\n",
       "      <td>CATALUNYA</td>\n",
       "      <td>GLOBAL</td>\n",
       "      <td>2021-04-26</td>\n",
       "      <td>Dona</td>\n",
       "      <td>Entre 15 i 64</td>\n",
       "      <td>315</td>\n",
       "      <td>854</td>\n",
       "      <td>2235</td>\n",
       "      <td>2</td>\n",
       "      <td>1</td>\n",
       "      <td>...</td>\n",
       "      <td>50</td>\n",
       "      <td>0</td>\n",
       "      <td>25</td>\n",
       "      <td>290</td>\n",
       "      <td>31</td>\n",
       "      <td>231</td>\n",
       "      <td>747</td>\n",
       "      <td>2114</td>\n",
       "      <td>3210</td>\n",
       "      <td>759</td>\n",
       "    </tr>\n",
       "    <tr>\n",
       "      <th>2</th>\n",
       "      <td>CATALUNYA</td>\n",
       "      <td>GLOBAL</td>\n",
       "      <td>2021-04-26</td>\n",
       "      <td>Dona</td>\n",
       "      <td>Entre 65 i 74</td>\n",
       "      <td>28</td>\n",
       "      <td>127</td>\n",
       "      <td>255</td>\n",
       "      <td>1</td>\n",
       "      <td>4</td>\n",
       "      <td>...</td>\n",
       "      <td>55</td>\n",
       "      <td>0</td>\n",
       "      <td>3</td>\n",
       "      <td>25</td>\n",
       "      <td>3</td>\n",
       "      <td>22</td>\n",
       "      <td>112</td>\n",
       "      <td>239</td>\n",
       "      <td>8757</td>\n",
       "      <td>206</td>\n",
       "    </tr>\n",
       "    <tr>\n",
       "      <th>3</th>\n",
       "      <td>CATALUNYA</td>\n",
       "      <td>GLOBAL</td>\n",
       "      <td>2021-04-26</td>\n",
       "      <td>Dona</td>\n",
       "      <td>Majors de 74</td>\n",
       "      <td>24</td>\n",
       "      <td>321</td>\n",
       "      <td>165</td>\n",
       "      <td>0</td>\n",
       "      <td>1</td>\n",
       "      <td>...</td>\n",
       "      <td>23</td>\n",
       "      <td>0</td>\n",
       "      <td>6</td>\n",
       "      <td>18</td>\n",
       "      <td>8</td>\n",
       "      <td>17</td>\n",
       "      <td>288</td>\n",
       "      <td>158</td>\n",
       "      <td>353</td>\n",
       "      <td>137</td>\n",
       "    </tr>\n",
       "    <tr>\n",
       "      <th>4</th>\n",
       "      <td>CATALUNYA</td>\n",
       "      <td>GLOBAL</td>\n",
       "      <td>2021-04-26</td>\n",
       "      <td>Dona</td>\n",
       "      <td>Menors de 15</td>\n",
       "      <td>26</td>\n",
       "      <td>125</td>\n",
       "      <td>662</td>\n",
       "      <td>0</td>\n",
       "      <td>0</td>\n",
       "      <td>...</td>\n",
       "      <td>1</td>\n",
       "      <td>0</td>\n",
       "      <td>5</td>\n",
       "      <td>21</td>\n",
       "      <td>4</td>\n",
       "      <td>19</td>\n",
       "      <td>116</td>\n",
       "      <td>629</td>\n",
       "      <td>0</td>\n",
       "      <td>0</td>\n",
       "    </tr>\n",
       "  </tbody>\n",
       "</table>\n",
       "<p>5 rows × 21 columns</p>\n",
       "</div>"
      ],
      "text/plain": [
       "         NOM    CODI       DATA    SEXE      GRUP_EDAT  CASOS_CONFIRMAT  PCR  \\\n",
       "0  CATALUNYA  GLOBAL 2021-04-26  Altres            NaN               17    5   \n",
       "1  CATALUNYA  GLOBAL 2021-04-26    Dona  Entre 15 i 64              315  854   \n",
       "2  CATALUNYA  GLOBAL 2021-04-26    Dona  Entre 65 i 74               28  127   \n",
       "3  CATALUNYA  GLOBAL 2021-04-26    Dona   Majors de 74               24  321   \n",
       "4  CATALUNYA  GLOBAL 2021-04-26    Dona   Menors de 15               26  125   \n",
       "\n",
       "    TAR  INGRESSOS_TOTAL  INGRESSOS_CRITIC  ...  INGRESSATS_CRITIC  EXITUS  \\\n",
       "0     3                0                16  ...                 18       0   \n",
       "1  2235                2                 1  ...                 50       0   \n",
       "2   255                1                 4  ...                 55       0   \n",
       "3   165                0                 1  ...                 23       0   \n",
       "4   662                0                 0  ...                  1       0   \n",
       "\n",
       "   CASOS_PCR  CASOS_TAR  POSITIVITAT_PCR_NUM  POSITIVITAT_TAR_NUM  \\\n",
       "0          2         15                    0                    1   \n",
       "1         25        290                   31                  231   \n",
       "2          3         25                    3                   22   \n",
       "3          6         18                    8                   17   \n",
       "4          5         21                    4                   19   \n",
       "\n",
       "   POSITIVITAT_PCR_DEN  POSITIVITAT_TAR_DEN  VACUNATS_DOSI_1  VACUNATS_DOSI_2  \n",
       "0                    4                    3               76               16  \n",
       "1                  747                 2114             3210              759  \n",
       "2                  112                  239             8757              206  \n",
       "3                  288                  158              353              137  \n",
       "4                  116                  629                0                0  \n",
       "\n",
       "[5 rows x 21 columns]"
      ]
     },
     "execution_count": 106,
     "metadata": {},
     "output_type": "execute_result"
    }
   ],
   "source": [
    "df.head()"
   ]
  },
  {
   "cell_type": "markdown",
   "metadata": {},
   "source": [
    "## Daily"
   ]
  },
  {
   "cell_type": "code",
   "execution_count": 115,
   "metadata": {},
   "outputs": [
    {
     "data": {
      "image/png": "[encoded data removed]",
      "text/plain": [
       "<Figure size 864x432 with 1 Axes>"
      ]
     },
     "metadata": {
      "needs_background": "light"
     },
     "output_type": "display_data"
    }
   ],
   "source": [
    "vac_cols = [\"VACUNATS_DOSI_1\", \"VACUNATS_DOSI_2\"]\n",
    "vd = df.groupby(\"DATA\", as_index=False)[vac_cols].sum()\n",
    "fig, ax = plt.subplots(figsize=(12,6))\n",
    "p1 = ax.bar(vd.DATA, vd.VACUNATS_DOSI_1, width=0.5, color = [(0.6, 0.8, 1)])\n",
    "p2 = ax.bar(vd.DATA, vd.VACUNATS_DOSI_2, width=0.5, bottom=vd.VACUNATS_DOSI_1, color=[(0.2, 0.4, 1)])"
   ]
  },
  {
   "cell_type": "markdown",
   "metadata": {},
   "source": [
    "## Weekly"
   ]
  },
  {
   "cell_type": "code",
   "execution_count": 116,
   "metadata": {},
   "outputs": [
    {
     "data": {
      "image/png": "[encoded data removed]",
      "text/plain": [
       "<Figure size 864x432 with 1 Axes>"
      ]
     },
     "metadata": {
      "needs_background": "light"
     },
     "output_type": "display_data"
    }
   ],
   "source": [
    "vac_cols = [\"VACUNATS_DOSI_1\", \"VACUNATS_DOSI_2\"]\n",
    "df[\"firstDayWeek\"] = df.DATA - df.DATA.dt.weekday * timedelta(days=1)\n",
    "vd = df.groupby(\"firstDayWeek\", as_index=False)[vac_cols].sum()\n",
    "fig, ax = plt.subplots(figsize=(12,6))\n",
    "p1 = ax.bar(vd.firstDayWeek, vd.VACUNATS_DOSI_1, width=2, color = [(0.6, 0.8, 1)])\n",
    "p2 = ax.bar(vd.firstDayWeek, vd.VACUNATS_DOSI_2, width=2, bottom=vd.VACUNATS_DOSI_1, color = [(0.2, 0.4, 1)])"
   ]
  },
  {
   "cell_type": "markdown",
   "metadata": {},
   "source": [
    "## Cumulative"
   ]
  },
  {
   "cell_type": "code",
   "execution_count": null,
   "metadata": {},
   "outputs": [],
   "source": []
  }
 ],
 "metadata": {
  "kernelspec": {
   "display_name": "Python 3",
   "language": "python",
   "name": "python3"
  },
  "language_info": {
   "codemirror_mode": {
    "name": "ipython",
    "version": 3
   },
   "file_extension": ".py",
   "mimetype": "text/x-python",
   "name": "python",
   "nbconvert_exporter": "python",
   "pygments_lexer": "ipython3",
   "version": "3.7.3"
  }
 },
 "nbformat": 4,
 "nbformat_minor": 2
}
