{
 "cells": [
  {
   "cell_type": "markdown",
   "metadata": {},
   "source": [
    "# Vacunacions"
   ]
  },
  {
   "cell_type": "code",
   "execution_count": 2,
   "metadata": {},
   "outputs": [
    {
     "name": "stderr",
     "output_type": "stream",
     "text": [
      "/Users/arnauquindos/anaconda3/lib/python3.7/site-packages/statsmodels/tools/_testing.py:19: FutureWarning: pandas.util.testing is deprecated. Use the functions in the public API at pandas.testing instead.\n",
      "  import pandas.util.testing as tm\n"
     ]
    }
   ],
   "source": [
    "import pandas as pd\n",
    "import numpy as np\n",
    "from datetime import datetime, timedelta\n",
    "\n",
    "import matplotlib.pyplot as plt\n",
    "import seaborn as sns\n",
    "\n",
    "from io import BytesIO\n",
    "from zipfile import ZipFile\n",
    "from urllib.request import urlopen"
   ]
  },
  {
   "cell_type": "markdown",
   "metadata": {},
   "source": [
    "## Data prep"
   ]
  },
  {
   "cell_type": "code",
   "execution_count": 42,
   "metadata": {},
   "outputs": [],
   "source": [
    "# Load data\n",
    "url = \"https://dadescovid.cat/static/csv/catalunya_diari_total_pob.zip\"\n",
    "resp = urlopen(url)\n",
    "zipfile = ZipFile(BytesIO(resp.read()))\n",
    "df = pd.read_csv(zipfile.open(zipfile.namelist()[0]), sep=\";\")\n",
    "\n",
    "# Column transformation and select\n",
    "df[\"DATA\"] = df.DATA.astype('datetime64[ns]')\n",
    "df = df[df.DATA>datetime(2021, 1, 1)]\n",
    "df = df.sort_values(\"DATA\")\n",
    "\n",
    "# New columns\n",
    "df[\"cum1\"] = df.VACUNATS_DOSI_1.cumsum()\n",
    "df[\"cum2\"] = df.VACUNATS_DOSI_2.cumsum()\n",
    "df[\"firstDayWeek\"] = df.DATA - df.DATA.dt.weekday * timedelta(days=1)"
   ]
  },
  {
   "cell_type": "code",
   "execution_count": 43,
   "metadata": {},
   "outputs": [
    {
     "data": {
      "text/html": [
       "<div>\n",
       "<style scoped>\n",
       "    .dataframe tbody tr th:only-of-type {\n",
       "        vertical-align: middle;\n",
       "    }\n",
       "\n",
       "    .dataframe tbody tr th {\n",
       "        vertical-align: top;\n",
       "    }\n",
       "\n",
       "    .dataframe thead th {\n",
       "        text-align: right;\n",
       "    }\n",
       "</style>\n",
       "<table border=\"1\" class=\"dataframe\">\n",
       "  <thead>\n",
       "    <tr style=\"text-align: right;\">\n",
       "      <th></th>\n",
       "      <th>NOM</th>\n",
       "      <th>CODI</th>\n",
       "      <th>DATA</th>\n",
       "      <th>SEXE</th>\n",
       "      <th>GRUP_EDAT</th>\n",
       "      <th>CASOS_CONFIRMAT</th>\n",
       "      <th>PCR</th>\n",
       "      <th>TAR</th>\n",
       "      <th>INGRESSOS_TOTAL</th>\n",
       "      <th>INGRESSOS_CRITIC</th>\n",
       "      <th>...</th>\n",
       "      <th>CASOS_TAR</th>\n",
       "      <th>POSITIVITAT_PCR_NUM</th>\n",
       "      <th>POSITIVITAT_TAR_NUM</th>\n",
       "      <th>POSITIVITAT_PCR_DEN</th>\n",
       "      <th>POSITIVITAT_TAR_DEN</th>\n",
       "      <th>VACUNATS_DOSI_1</th>\n",
       "      <th>VACUNATS_DOSI_2</th>\n",
       "      <th>cum1</th>\n",
       "      <th>cum2</th>\n",
       "      <th>firstDayWeek</th>\n",
       "    </tr>\n",
       "  </thead>\n",
       "  <tbody>\n",
       "    <tr>\n",
       "      <th>1034</th>\n",
       "      <td>CATALUNYA</td>\n",
       "      <td>GLOBAL</td>\n",
       "      <td>2021-01-02</td>\n",
       "      <td>Home</td>\n",
       "      <td>Menors de 15</td>\n",
       "      <td>53</td>\n",
       "      <td>196</td>\n",
       "      <td>280</td>\n",
       "      <td>1</td>\n",
       "      <td>0</td>\n",
       "      <td>...</td>\n",
       "      <td>32</td>\n",
       "      <td>23</td>\n",
       "      <td>31</td>\n",
       "      <td>187</td>\n",
       "      <td>278</td>\n",
       "      <td>0</td>\n",
       "      <td>0</td>\n",
       "      <td>0</td>\n",
       "      <td>0</td>\n",
       "      <td>2020-12-28</td>\n",
       "    </tr>\n",
       "    <tr>\n",
       "      <th>1026</th>\n",
       "      <td>CATALUNYA</td>\n",
       "      <td>GLOBAL</td>\n",
       "      <td>2021-01-02</td>\n",
       "      <td>Altres</td>\n",
       "      <td>NaN</td>\n",
       "      <td>35</td>\n",
       "      <td>613</td>\n",
       "      <td>2</td>\n",
       "      <td>11</td>\n",
       "      <td>0</td>\n",
       "      <td>...</td>\n",
       "      <td>15</td>\n",
       "      <td>19</td>\n",
       "      <td>1</td>\n",
       "      <td>600</td>\n",
       "      <td>2</td>\n",
       "      <td>2</td>\n",
       "      <td>0</td>\n",
       "      <td>2</td>\n",
       "      <td>0</td>\n",
       "      <td>2020-12-28</td>\n",
       "    </tr>\n",
       "    <tr>\n",
       "      <th>1027</th>\n",
       "      <td>CATALUNYA</td>\n",
       "      <td>GLOBAL</td>\n",
       "      <td>2021-01-02</td>\n",
       "      <td>Dona</td>\n",
       "      <td>Entre 15 i 64</td>\n",
       "      <td>690</td>\n",
       "      <td>3191</td>\n",
       "      <td>2561</td>\n",
       "      <td>27</td>\n",
       "      <td>4</td>\n",
       "      <td>...</td>\n",
       "      <td>458</td>\n",
       "      <td>211</td>\n",
       "      <td>396</td>\n",
       "      <td>2879</td>\n",
       "      <td>2417</td>\n",
       "      <td>548</td>\n",
       "      <td>0</td>\n",
       "      <td>550</td>\n",
       "      <td>0</td>\n",
       "      <td>2020-12-28</td>\n",
       "    </tr>\n",
       "    <tr>\n",
       "      <th>1028</th>\n",
       "      <td>CATALUNYA</td>\n",
       "      <td>GLOBAL</td>\n",
       "      <td>2021-01-02</td>\n",
       "      <td>Dona</td>\n",
       "      <td>Entre 65 i 74</td>\n",
       "      <td>69</td>\n",
       "      <td>328</td>\n",
       "      <td>233</td>\n",
       "      <td>15</td>\n",
       "      <td>3</td>\n",
       "      <td>...</td>\n",
       "      <td>51</td>\n",
       "      <td>19</td>\n",
       "      <td>50</td>\n",
       "      <td>296</td>\n",
       "      <td>221</td>\n",
       "      <td>65</td>\n",
       "      <td>0</td>\n",
       "      <td>615</td>\n",
       "      <td>0</td>\n",
       "      <td>2020-12-28</td>\n",
       "    </tr>\n",
       "    <tr>\n",
       "      <th>1033</th>\n",
       "      <td>CATALUNYA</td>\n",
       "      <td>GLOBAL</td>\n",
       "      <td>2021-01-02</td>\n",
       "      <td>Home</td>\n",
       "      <td>Majors de 74</td>\n",
       "      <td>64</td>\n",
       "      <td>666</td>\n",
       "      <td>253</td>\n",
       "      <td>44</td>\n",
       "      <td>3</td>\n",
       "      <td>...</td>\n",
       "      <td>29</td>\n",
       "      <td>32</td>\n",
       "      <td>31</td>\n",
       "      <td>577</td>\n",
       "      <td>217</td>\n",
       "      <td>249</td>\n",
       "      <td>0</td>\n",
       "      <td>864</td>\n",
       "      <td>0</td>\n",
       "      <td>2020-12-28</td>\n",
       "    </tr>\n",
       "  </tbody>\n",
       "</table>\n",
       "<p>5 rows × 24 columns</p>\n",
       "</div>"
      ],
      "text/plain": [
       "            NOM    CODI       DATA    SEXE      GRUP_EDAT  CASOS_CONFIRMAT  \\\n",
       "1034  CATALUNYA  GLOBAL 2021-01-02    Home   Menors de 15               53   \n",
       "1026  CATALUNYA  GLOBAL 2021-01-02  Altres            NaN               35   \n",
       "1027  CATALUNYA  GLOBAL 2021-01-02    Dona  Entre 15 i 64              690   \n",
       "1028  CATALUNYA  GLOBAL 2021-01-02    Dona  Entre 65 i 74               69   \n",
       "1033  CATALUNYA  GLOBAL 2021-01-02    Home   Majors de 74               64   \n",
       "\n",
       "       PCR   TAR  INGRESSOS_TOTAL  INGRESSOS_CRITIC  ...  CASOS_TAR  \\\n",
       "1034   196   280                1                 0  ...         32   \n",
       "1026   613     2               11                 0  ...         15   \n",
       "1027  3191  2561               27                 4  ...        458   \n",
       "1028   328   233               15                 3  ...         51   \n",
       "1033   666   253               44                 3  ...         29   \n",
       "\n",
       "      POSITIVITAT_PCR_NUM  POSITIVITAT_TAR_NUM  POSITIVITAT_PCR_DEN  \\\n",
       "1034                   23                   31                  187   \n",
       "1026                   19                    1                  600   \n",
       "1027                  211                  396                 2879   \n",
       "1028                   19                   50                  296   \n",
       "1033                   32                   31                  577   \n",
       "\n",
       "      POSITIVITAT_TAR_DEN  VACUNATS_DOSI_1  VACUNATS_DOSI_2  cum1  cum2  \\\n",
       "1034                  278                0                0     0     0   \n",
       "1026                    2                2                0     2     0   \n",
       "1027                 2417              548                0   550     0   \n",
       "1028                  221               65                0   615     0   \n",
       "1033                  217              249                0   864     0   \n",
       "\n",
       "      firstDayWeek  \n",
       "1034    2020-12-28  \n",
       "1026    2020-12-28  \n",
       "1027    2020-12-28  \n",
       "1028    2020-12-28  \n",
       "1033    2020-12-28  \n",
       "\n",
       "[5 rows x 24 columns]"
      ]
     },
     "execution_count": 43,
     "metadata": {},
     "output_type": "execute_result"
    }
   ],
   "source": [
    "df.head()"
   ]
  },
  {
   "cell_type": "markdown",
   "metadata": {},
   "source": [
    "## Daily"
   ]
  },
  {
   "cell_type": "code",
   "execution_count": 44,
   "metadata": {},
   "outputs": [
    {
     "data": {
      "image/png": "[encoded data removed]",
      "text/plain": [
       "<Figure size 864x432 with 1 Axes>"
      ]
     },
     "metadata": {
      "needs_background": "light"
     },
     "output_type": "display_data"
    }
   ],
   "source": [
    "vac_cols = [\"VACUNATS_DOSI_1\", \"VACUNATS_DOSI_2\"]\n",
    "vd = df.groupby(\"DATA\", as_index=False)[vac_cols].sum()\n",
    "fig, ax = plt.subplots(figsize=(12,6))\n",
    "p1 = ax.bar(vd.DATA, vd.VACUNATS_DOSI_1, width=0.5, color = [(0.6, 0.8, 1)])\n",
    "p2 = ax.bar(vd.DATA, vd.VACUNATS_DOSI_2, width=0.5, bottom=vd.VACUNATS_DOSI_1, color=[(0.2, 0.4, 1)])"
   ]
  },
  {
   "cell_type": "markdown",
   "metadata": {},
   "source": [
    "## Weekly"
   ]
  },
  {
   "cell_type": "code",
   "execution_count": 45,
   "metadata": {},
   "outputs": [
    {
     "data": {
      "image/png": "[encoded data removed]",
      "text/plain": [
       "<Figure size 864x432 with 1 Axes>"
      ]
     },
     "metadata": {
      "needs_background": "light"
     },
     "output_type": "display_data"
    }
   ],
   "source": [
    "vac_cols = [\"VACUNATS_DOSI_1\", \"VACUNATS_DOSI_2\"]\n",
    "vw = df.groupby(\"firstDayWeek\", as_index=False)[vac_cols].sum()\n",
    "fig, ax = plt.subplots(figsize=(12,6))\n",
    "p1 = ax.bar(vw.firstDayWeek, vw.VACUNATS_DOSI_1, width=2, color = [(0.6, 0.8, 1)])\n",
    "p2 = ax.bar(vw.firstDayWeek, vw.VACUNATS_DOSI_2, width=2, bottom=vw.VACUNATS_DOSI_1, color = [(0.2, 0.4, 1)])"
   ]
  },
  {
   "cell_type": "markdown",
   "metadata": {},
   "source": [
    "## Cumulative"
   ]
  },
  {
   "cell_type": "code",
   "execution_count": 56,
   "metadata": {},
   "outputs": [
    {
     "data": {
      "image/png": "[encoded data removed]",
      "text/plain": [
       "<Figure size 864x432 with 1 Axes>"
      ]
     },
     "metadata": {
      "needs_background": "light"
     },
     "output_type": "display_data"
    }
   ],
   "source": [
    "cum_cols = [\"cum1\", \"cum2\"]\n",
    "vcw = df.groupby(\"firstDayWeek\", as_index=False)[cum_cols].first()\n",
    "fig, ax = plt.subplots(figsize=(12,6))\n",
    "w = 2\n",
    "p1 = ax.bar(vcw.firstDayWeek+timedelta(days=w/2), vcw.cum1, width=w, color = [(0.6, 0.8, 1)], align='center')\n",
    "p2 = ax.bar(vcw.firstDayWeek-timedelta(days=w/2), vcw.cum2, width=w, color = [(0.2, 0.4, 1)], align='center')"
   ]
  },
  {
   "cell_type": "code",
   "execution_count": null,
   "metadata": {},
   "outputs": [],
   "source": []
  }
 ],
 "metadata": {
  "kernelspec": {
   "display_name": "Python 3",
   "language": "python",
   "name": "python3"
  },
  "language_info": {
   "codemirror_mode": {
    "name": "ipython",
    "version": 3
   },
   "file_extension": ".py",
   "mimetype": "text/x-python",
   "name": "python",
   "nbconvert_exporter": "python",
   "pygments_lexer": "ipython3",
   "version": "3.7.3"
  }
 },
 "nbformat": 4,
 "nbformat_minor": 2
}
