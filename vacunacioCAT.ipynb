{
 "cells": [
  {
   "cell_type": "markdown",
   "metadata": {},
   "source": [
    "# Vacunacions"
   ]
  },
  {
   "cell_type": "code",
   "execution_count": null,
   "metadata": {},
   "outputs": [],
   "source": [
    "import pandas as pd\n",
    "import numpy as np\n",
    "from datetime import datetime, timedelta\n",
    "\n",
    "import matplotlib.pyplot as plt\n",
    "import seaborn as sns\n",
    "\n",
    "from io import BytesIO\n",
    "from zipfile import ZipFile\n",
    "from urllib.request import urlopen"
   ]
  },
  {
   "cell_type": "markdown",
   "metadata": {},
   "source": [
    "## Data prep"
   ]
  },
  {
   "cell_type": "code",
   "execution_count": null,
   "metadata": {},
   "outputs": [],
   "source": [
    "# Load data\n",
    "url = \"https://dadescovid.cat/static/csv/catalunya_diari_total_pob.zip\"\n",
    "resp = urlopen(url)\n",
    "zipfile = ZipFile(BytesIO(resp.read()))\n",
    "df = pd.read_csv(zipfile.open(zipfile.namelist()[0]), sep=\";\")\n",
    "\n",
    "# Column transformation and select\n",
    "df[\"DATA\"] = df.DATA.astype('datetime64[ns]')\n",
    "df = df[df.DATA>datetime(2020, 12, 20)]\n",
    "df = df.sort_values(\"DATA\")\n",
    "\n",
    "# New columns\n",
    "df[\"DOSIS_TOTALS\"] = df.VACUNATS_DOSI_1+df.VACUNATS_DOSI_2\n",
    "df[\"cum1\"] = df.VACUNATS_DOSI_1.cumsum()\n",
    "df[\"cum2\"] = df.VACUNATS_DOSI_2.cumsum()\n",
    "df[\"cum\"] = df.DOSIS_TOTALS.cumsum()\n",
    "df[\"firstDayWeek\"] = df.DATA - df.DATA.dt.weekday * timedelta(days=1)"
   ]
  },
  {
   "cell_type": "code",
   "execution_count": null,
   "metadata": {},
   "outputs": [],
   "source": [
    "df.head()"
   ]
  },
  {
   "cell_type": "markdown",
   "metadata": {},
   "source": [
    "## Daily"
   ]
  },
  {
   "cell_type": "code",
   "execution_count": null,
   "metadata": {},
   "outputs": [],
   "source": [
    "vac_cols = [\"VACUNATS_DOSI_1\", \"VACUNATS_DOSI_2\"]\n",
    "vd = df.groupby(\"DATA\", as_index=False)[vac_cols].sum()\n",
    "fig, ax = plt.subplots(figsize=(12,6))\n",
    "p1 = ax.bar(vd.DATA, vd.VACUNATS_DOSI_1, width=0.5, color = [(0.6, 0.8, 1)], label='1a dosi')\n",
    "p2 = ax.bar(vd.DATA, vd.VACUNATS_DOSI_2, width=0.5, bottom=vd.VACUNATS_DOSI_1, color=[(0.2, 0.4, 1)], label='2a dosi')\n",
    "ax.set_title(\"Vacunacions diaries\")\n",
    "ax.set_ylabel(\"num dosis\")\n",
    "ax.legend()\n",
    "plt.show()"
   ]
  },
  {
   "cell_type": "code",
   "execution_count": null,
   "metadata": {},
   "outputs": [],
   "source": [
    "vac_cols = [\"VACUNATS_DOSI_1\", \"VACUNATS_DOSI_2\"]\n",
    "vd = df.groupby(\"DATA\", as_index=False)[vac_cols].sum()\n",
    "fig, ax = plt.subplots(figsize=(12,6))\n",
    "p1 = ax.bar(vd.DATA, vd.VACUNATS_DOSI_1, width=0.5, color = [(0.6, 0.8, 1)])\n",
    "p2 = ax.bar(vd.DATA, vd.VACUNATS_DOSI_2, width=0.5, bottom=vd.VACUNATS_DOSI_1, color=[(0.2, 0.4, 1)])"
   ]
  },
  {
   "cell_type": "markdown",
   "metadata": {},
   "source": [
    "## Weekly"
   ]
  },
  {
   "cell_type": "code",
   "execution_count": null,
   "metadata": {},
   "outputs": [],
   "source": [
    "vac_cols = [\"VACUNATS_DOSI_1\", \"VACUNATS_DOSI_2\", \"DOSIS_TOTALS\"]\n",
    "vw = df.groupby(\"firstDayWeek\", as_index=False)[vac_cols].sum()\n",
    "fig, ax = plt.subplots(figsize=(12,6))\n",
    "p1 = ax.bar(vw.firstDayWeek, vw.VACUNATS_DOSI_1, width=2, color = [(0.6, 0.8, 1)], label='1a dosi')\n",
    "p2 = ax.bar(vw.firstDayWeek, vw.VACUNATS_DOSI_2, width=2, bottom=vw.VACUNATS_DOSI_1, color = [(0.2, 0.4, 1)], label='2a dosi')\n",
    "ax.set_title(\"Vacunacions setmanals\")\n",
    "ax.set_ylabel(\"num dosis\")\n",
    "ax.legend()\n",
    "plt.show()"
   ]
  },
  {
   "cell_type": "code",
   "execution_count": null,
   "metadata": {},
   "outputs": [],
   "source": [
    "cum_cols = [\"cum1\", \"cum2\"]\n",
    "vcw = df.groupby(\"firstDayWeek\", as_index=False)[cum_cols].first()\n",
    "fig, ax = plt.subplots(figsize=(12,6))\n",
    "w = 2\n",
    "p1 = ax.bar(vcw.firstDayWeek+timedelta(days=w/2), vcw.cum1, width=w, color = [(0.6, 0.8, 1)], align='center', label='1a dosi')\n",
    "p2 = ax.bar(vcw.firstDayWeek-timedelta(days=w/2), vcw.cum2, width=w, color = [(0.2, 0.4, 1)], align='center', label='2a dosi')\n",
    "ax.set_title(\"Vacunacions cumulatives setmanals\")\n",
    "ax.set_ylabel(\"num dosis\")\n",
    "ax.legend()\n",
    "plt.show()"
   ]
  },
  {
   "cell_type": "markdown",
   "metadata": {},
   "source": [
    "# Weekly total dosis"
   ]
  },
  {
   "cell_type": "code",
   "execution_count": null,
   "metadata": {},
   "outputs": [],
   "source": [
    "fig, ax = plt.subplots(figsize=(12,6))\n",
    "ax.bar(vw.firstDayWeek, vw.DOSIS_TOTALS, width=2, color = [(0.3, 0.3, 0.3)])\n",
    "ax.set_title(\"Vacunacions setmanals\")\n",
    "ax.set_ylabel(\"num dosis\")\n",
    "plt.show()"
   ]
  },
  {
   "cell_type": "code",
   "execution_count": null,
   "metadata": {},
   "outputs": [],
   "source": [
    "vct = df.groupby(\"firstDayWeek\", as_index=False)[\"cum\"].first()\n",
    "fig, ax = plt.subplots(figsize=(12,6))\n",
    "p1 = ax.bar(vct.firstDayWeek, vct.cum, width=w, color = [(0.3, 0.3, 0.3)], align='center')\n",
    "ax.set_title(\"Vacunacions cumulatives setmanals\")\n",
    "ax.set_ylabel(\"num dosis\")\n",
    "plt.show()"
   ]
  },
  {
   "cell_type": "code",
   "execution_count": null,
   "metadata": {},
   "outputs": [],
   "source": [
    "(vw.firstDayWeek + pd.Timedelta(36, unit='w')).to_frame()"
   ]
  },
  {
   "cell_type": "code",
   "execution_count": null,
   "metadata": {},
   "outputs": [],
   "source": [
    "# create a future date df\n",
    "ftr =  (vw.firstDayWeek + pd.Timedelta(12, unit='w')).to_frame()\n",
    "ftr['DOSIS_TOTALS'] = round(vw.DOSIS_TOTALS.tail(4).head(3).mean())\n",
    "ftr = ftr[ftr.firstDayWeek>=vw.firstDayWeek.max()]\n",
    "ftr[\"future\"] = 1\n",
    "\n",
    "real = vw[:-1]\n",
    "real[\"future\"] = 0\n",
    "# join the future data\n",
    "df_ftr = pd.concat([real, ftr], ignore_index=True)[[\"firstDayWeek\",\"DOSIS_TOTALS\", \"future\"]]\n",
    "df_ftr[\"cum\"] = df_ftr.DOSIS_TOTALS.cumsum()\n",
    "\n",
    "import matplotlib.transforms as transforms\n",
    "TOTAL_POB = 7560000\n",
    "fig, ax = plt.subplots(figsize=(12,6))\n",
    "ax.set_ylim([0, 1.20*df_ftr.cum.max()])\n",
    "p1 = ax.bar(df_ftr[df_ftr.future==0].firstDayWeek, df_ftr[df_ftr.future==0].cum, \n",
    "            width=w, color = [(0.3, 0.3, 0.3)], align='center')\n",
    "p2 = ax.bar(df_ftr[df_ftr.future==1].firstDayWeek, df_ftr[df_ftr.future==1].cum, \n",
    "            width=w, color = [(0.7, 0.9, 0.7)], align='center')\n",
    "for k in [10,20,30,40]:\n",
    "    pob_k = 0.02*TOTAL_POB*k\n",
    "    ax.axhline(y=pob_k, color=(0.7, 0.7, 0.8))\n",
    "    trans = transforms.blended_transform_factory(\n",
    "    ax.get_yticklabels()[0].get_transform(), ax.transData)\n",
    "    ax.text(1.01,pob_k/ax.get_ylim()[1], \"{:.0f}\".format(k), color=(0.5, 0.5, 0.7), transform=ax.transAxes, \n",
    "        ha=\"left\", va=\"center\")\n",
    "ax.set_title(\"Projeccio vacunacions cumulatives setmanals\")\n",
    "ax.set_ylabel(\"num dosis\")\n",
    "plt.show()"
   ]
  },
  {
   "cell_type": "code",
   "execution_count": null,
   "metadata": {},
   "outputs": [],
   "source": [
    "df_ftr"
   ]
  }
 ],
 "metadata": {
  "kernelspec": {
   "display_name": "Python 3",
   "language": "python",
   "name": "python3"
  },
  "language_info": {
   "codemirror_mode": {
    "name": "ipython",
    "version": 3
   },
   "file_extension": ".py",
   "mimetype": "text/x-python",
   "name": "python",
   "nbconvert_exporter": "python",
   "pygments_lexer": "ipython3",
   "version": "3.7.3"
  }
 },
 "nbformat": 4,
 "nbformat_minor": 2
}
