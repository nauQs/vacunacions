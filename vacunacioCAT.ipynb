{
 "cells": [
  {
   "cell_type": "markdown",
   "metadata": {},
   "source": [
    "# Vacunacions"
   ]
  },
  {
   "cell_type": "code",
   "execution_count": 2,
   "metadata": {},
   "outputs": [
    {
     "name": "stderr",
     "output_type": "stream",
     "text": [
      "/Users/arnauquindos/anaconda3/lib/python3.7/site-packages/statsmodels/tools/_testing.py:19: FutureWarning: pandas.util.testing is deprecated. Use the functions in the public API at pandas.testing instead.\n",
      "  import pandas.util.testing as tm\n"
     ]
    }
   ],
   "source": [
    "import pandas as pd\n",
    "import numpy as np\n",
    "from datetime import datetime, timedelta\n",
    "\n",
    "import matplotlib.pyplot as plt\n",
    "import seaborn as sns\n",
    "\n",
    "from io import BytesIO\n",
    "from zipfile import ZipFile\n",
    "from urllib.request import urlopen"
   ]
  },
  {
   "cell_type": "markdown",
   "metadata": {},
   "source": [
    "## Data prep"
   ]
  },
  {
   "cell_type": "code",
   "execution_count": 121,
   "metadata": {},
   "outputs": [],
   "source": [
    "# Load data\n",
    "url = \"https://dadescovid.cat/static/csv/catalunya_diari_total_pob.zip\"\n",
    "resp = urlopen(url)\n",
    "zipfile = ZipFile(BytesIO(resp.read()))\n",
    "df = pd.read_csv(zipfile.open(zipfile.namelist()[0]), sep=\";\")\n",
    "\n",
    "# Column transformation and select\n",
    "df[\"DATA\"] = df.DATA.astype('datetime64[ns]')\n",
    "df = df[df.DATA>datetime(2020, 12, 20)]\n",
    "df = df.sort_values(\"DATA\")\n",
    "\n",
    "# New columns\n",
    "df[\"DOSIS_TOTALS\"] = df.VACUNATS_DOSI_1+df.VACUNATS_DOSI_2\n",
    "df[\"cum1\"] = df.VACUNATS_DOSI_1.cumsum()\n",
    "df[\"cum2\"] = df.VACUNATS_DOSI_2.cumsum()\n",
    "df[\"cum\"] = df.DOSIS_TOTALS.cumsum()\n",
    "df[\"firstDayWeek\"] = df.DATA - df.DATA.dt.weekday * timedelta(days=1)"
   ]
  },
  {
   "cell_type": "code",
   "execution_count": 122,
   "metadata": {},
   "outputs": [
    {
     "data": {
      "text/html": [
       "<div>\n",
       "<style scoped>\n",
       "    .dataframe tbody tr th:only-of-type {\n",
       "        vertical-align: middle;\n",
       "    }\n",
       "\n",
       "    .dataframe tbody tr th {\n",
       "        vertical-align: top;\n",
       "    }\n",
       "\n",
       "    .dataframe thead th {\n",
       "        text-align: right;\n",
       "    }\n",
       "</style>\n",
       "<table border=\"1\" class=\"dataframe\">\n",
       "  <thead>\n",
       "    <tr style=\"text-align: right;\">\n",
       "      <th></th>\n",
       "      <th>NOM</th>\n",
       "      <th>CODI</th>\n",
       "      <th>DATA</th>\n",
       "      <th>SEXE</th>\n",
       "      <th>GRUP_EDAT</th>\n",
       "      <th>CASOS_CONFIRMAT</th>\n",
       "      <th>PCR</th>\n",
       "      <th>TAR</th>\n",
       "      <th>INGRESSOS_TOTAL</th>\n",
       "      <th>INGRESSOS_CRITIC</th>\n",
       "      <th>...</th>\n",
       "      <th>POSITIVITAT_TAR_NUM</th>\n",
       "      <th>POSITIVITAT_PCR_DEN</th>\n",
       "      <th>POSITIVITAT_TAR_DEN</th>\n",
       "      <th>VACUNATS_DOSI_1</th>\n",
       "      <th>VACUNATS_DOSI_2</th>\n",
       "      <th>DOSIS_TOTALS</th>\n",
       "      <th>cum1</th>\n",
       "      <th>cum2</th>\n",
       "      <th>cum</th>\n",
       "      <th>firstDayWeek</th>\n",
       "    </tr>\n",
       "  </thead>\n",
       "  <tbody>\n",
       "    <tr>\n",
       "      <th>1142</th>\n",
       "      <td>CATALUNYA</td>\n",
       "      <td>GLOBAL</td>\n",
       "      <td>2020-12-21</td>\n",
       "      <td>Home</td>\n",
       "      <td>Menors de 15</td>\n",
       "      <td>170</td>\n",
       "      <td>1943</td>\n",
       "      <td>1048</td>\n",
       "      <td>1</td>\n",
       "      <td>0</td>\n",
       "      <td>...</td>\n",
       "      <td>71</td>\n",
       "      <td>1903</td>\n",
       "      <td>1037</td>\n",
       "      <td>0</td>\n",
       "      <td>0</td>\n",
       "      <td>0</td>\n",
       "      <td>0</td>\n",
       "      <td>0</td>\n",
       "      <td>0</td>\n",
       "      <td>2020-12-21</td>\n",
       "    </tr>\n",
       "    <tr>\n",
       "      <th>1134</th>\n",
       "      <td>CATALUNYA</td>\n",
       "      <td>GLOBAL</td>\n",
       "      <td>2020-12-21</td>\n",
       "      <td>Altres</td>\n",
       "      <td>NaN</td>\n",
       "      <td>60</td>\n",
       "      <td>1073</td>\n",
       "      <td>23</td>\n",
       "      <td>4</td>\n",
       "      <td>0</td>\n",
       "      <td>...</td>\n",
       "      <td>0</td>\n",
       "      <td>1051</td>\n",
       "      <td>23</td>\n",
       "      <td>0</td>\n",
       "      <td>0</td>\n",
       "      <td>0</td>\n",
       "      <td>0</td>\n",
       "      <td>0</td>\n",
       "      <td>0</td>\n",
       "      <td>2020-12-21</td>\n",
       "    </tr>\n",
       "    <tr>\n",
       "      <th>1135</th>\n",
       "      <td>CATALUNYA</td>\n",
       "      <td>GLOBAL</td>\n",
       "      <td>2020-12-21</td>\n",
       "      <td>Dona</td>\n",
       "      <td>Entre 15 i 64</td>\n",
       "      <td>1111</td>\n",
       "      <td>9910</td>\n",
       "      <td>8413</td>\n",
       "      <td>26</td>\n",
       "      <td>4</td>\n",
       "      <td>...</td>\n",
       "      <td>677</td>\n",
       "      <td>9045</td>\n",
       "      <td>7868</td>\n",
       "      <td>0</td>\n",
       "      <td>0</td>\n",
       "      <td>0</td>\n",
       "      <td>0</td>\n",
       "      <td>0</td>\n",
       "      <td>0</td>\n",
       "      <td>2020-12-21</td>\n",
       "    </tr>\n",
       "    <tr>\n",
       "      <th>1136</th>\n",
       "      <td>CATALUNYA</td>\n",
       "      <td>GLOBAL</td>\n",
       "      <td>2020-12-21</td>\n",
       "      <td>Dona</td>\n",
       "      <td>Entre 65 i 74</td>\n",
       "      <td>98</td>\n",
       "      <td>685</td>\n",
       "      <td>961</td>\n",
       "      <td>9</td>\n",
       "      <td>4</td>\n",
       "      <td>...</td>\n",
       "      <td>69</td>\n",
       "      <td>630</td>\n",
       "      <td>865</td>\n",
       "      <td>0</td>\n",
       "      <td>0</td>\n",
       "      <td>0</td>\n",
       "      <td>0</td>\n",
       "      <td>0</td>\n",
       "      <td>0</td>\n",
       "      <td>2020-12-21</td>\n",
       "    </tr>\n",
       "    <tr>\n",
       "      <th>1141</th>\n",
       "      <td>CATALUNYA</td>\n",
       "      <td>GLOBAL</td>\n",
       "      <td>2020-12-21</td>\n",
       "      <td>Home</td>\n",
       "      <td>Majors de 74</td>\n",
       "      <td>119</td>\n",
       "      <td>1111</td>\n",
       "      <td>1696</td>\n",
       "      <td>31</td>\n",
       "      <td>3</td>\n",
       "      <td>...</td>\n",
       "      <td>73</td>\n",
       "      <td>999</td>\n",
       "      <td>1374</td>\n",
       "      <td>0</td>\n",
       "      <td>0</td>\n",
       "      <td>0</td>\n",
       "      <td>0</td>\n",
       "      <td>0</td>\n",
       "      <td>0</td>\n",
       "      <td>2020-12-21</td>\n",
       "    </tr>\n",
       "  </tbody>\n",
       "</table>\n",
       "<p>5 rows × 26 columns</p>\n",
       "</div>"
      ],
      "text/plain": [
       "            NOM    CODI       DATA    SEXE      GRUP_EDAT  CASOS_CONFIRMAT  \\\n",
       "1142  CATALUNYA  GLOBAL 2020-12-21    Home   Menors de 15              170   \n",
       "1134  CATALUNYA  GLOBAL 2020-12-21  Altres            NaN               60   \n",
       "1135  CATALUNYA  GLOBAL 2020-12-21    Dona  Entre 15 i 64             1111   \n",
       "1136  CATALUNYA  GLOBAL 2020-12-21    Dona  Entre 65 i 74               98   \n",
       "1141  CATALUNYA  GLOBAL 2020-12-21    Home   Majors de 74              119   \n",
       "\n",
       "       PCR   TAR  INGRESSOS_TOTAL  INGRESSOS_CRITIC  ...  POSITIVITAT_TAR_NUM  \\\n",
       "1142  1943  1048                1                 0  ...                   71   \n",
       "1134  1073    23                4                 0  ...                    0   \n",
       "1135  9910  8413               26                 4  ...                  677   \n",
       "1136   685   961                9                 4  ...                   69   \n",
       "1141  1111  1696               31                 3  ...                   73   \n",
       "\n",
       "      POSITIVITAT_PCR_DEN  POSITIVITAT_TAR_DEN  VACUNATS_DOSI_1  \\\n",
       "1142                 1903                 1037                0   \n",
       "1134                 1051                   23                0   \n",
       "1135                 9045                 7868                0   \n",
       "1136                  630                  865                0   \n",
       "1141                  999                 1374                0   \n",
       "\n",
       "      VACUNATS_DOSI_2  DOSIS_TOTALS  cum1  cum2  cum  firstDayWeek  \n",
       "1142                0             0     0     0    0    2020-12-21  \n",
       "1134                0             0     0     0    0    2020-12-21  \n",
       "1135                0             0     0     0    0    2020-12-21  \n",
       "1136                0             0     0     0    0    2020-12-21  \n",
       "1141                0             0     0     0    0    2020-12-21  \n",
       "\n",
       "[5 rows x 26 columns]"
      ]
     },
     "execution_count": 122,
     "metadata": {},
     "output_type": "execute_result"
    }
   ],
   "source": [
    "df.head()"
   ]
  },
  {
   "cell_type": "markdown",
   "metadata": {},
   "source": [
    "## Daily"
   ]
  },
  {
   "cell_type": "code",
   "execution_count": 123,
   "metadata": {},
   "outputs": [
    {
     "data": {
      "image/png": "[encoded data removed]",
      "text/plain": [
       "<Figure size 864x432 with 1 Axes>"
      ]
     },
     "metadata": {
      "needs_background": "light"
     },
     "output_type": "display_data"
    }
   ],
   "source": [
    "vac_cols = [\"VACUNATS_DOSI_1\", \"VACUNATS_DOSI_2\"]\n",
    "vd = df.groupby(\"DATA\", as_index=False)[vac_cols].sum()\n",
    "fig, ax = plt.subplots(figsize=(12,6))\n",
    "p1 = ax.bar(vd.DATA, vd.VACUNATS_DOSI_1, width=0.5, color = [(0.6, 0.8, 1)], label='1a dosi')\n",
    "p2 = ax.bar(vd.DATA, vd.VACUNATS_DOSI_2, width=0.5, bottom=vd.VACUNATS_DOSI_1, color=[(0.2, 0.4, 1)], label='2a dosi')\n",
    "ax.set_title(\"Vacunacions diaries\")\n",
    "ax.set_ylabel(\"num dosis\")\n",
    "ax.legend()\n",
    "plt.show()"
   ]
  },
  {
   "cell_type": "code",
   "execution_count": 124,
   "metadata": {},
   "outputs": [
    {
     "data": {
      "image/png": "[encoded data removed]",
      "text/plain": [
       "<Figure size 864x432 with 1 Axes>"
      ]
     },
     "metadata": {
      "needs_background": "light"
     },
     "output_type": "display_data"
    }
   ],
   "source": [
    "vac_cols = [\"VACUNATS_DOSI_1\", \"VACUNATS_DOSI_2\"]\n",
    "vd = df.groupby(\"DATA\", as_index=False)[vac_cols].sum()\n",
    "fig, ax = plt.subplots(figsize=(12,6))\n",
    "p1 = ax.bar(vd.DATA, vd.VACUNATS_DOSI_1, width=0.5, color = [(0.6, 0.8, 1)])\n",
    "p2 = ax.bar(vd.DATA, vd.VACUNATS_DOSI_2, width=0.5, bottom=vd.VACUNATS_DOSI_1, color=[(0.2, 0.4, 1)])"
   ]
  },
  {
   "cell_type": "markdown",
   "metadata": {},
   "source": [
    "## Weekly"
   ]
  },
  {
   "cell_type": "code",
   "execution_count": 125,
   "metadata": {},
   "outputs": [
    {
     "data": {
      "image/png": "[encoded data removed]",
      "text/plain": [
       "<Figure size 864x432 with 1 Axes>"
      ]
     },
     "metadata": {
      "needs_background": "light"
     },
     "output_type": "display_data"
    }
   ],
   "source": [
    "vac_cols = [\"VACUNATS_DOSI_1\", \"VACUNATS_DOSI_2\", \"DOSIS_TOTALS\"]\n",
    "vw = df.groupby(\"firstDayWeek\", as_index=False)[vac_cols].sum()\n",
    "fig, ax = plt.subplots(figsize=(12,6))\n",
    "p1 = ax.bar(vw.firstDayWeek, vw.VACUNATS_DOSI_1, width=2, color = [(0.6, 0.8, 1)], label='1a dosi')\n",
    "p2 = ax.bar(vw.firstDayWeek, vw.VACUNATS_DOSI_2, width=2, bottom=vw.VACUNATS_DOSI_1, color = [(0.2, 0.4, 1)], label='2a dosi')\n",
    "ax.set_title(\"Vacunacions setmanals\")\n",
    "ax.set_ylabel(\"num dosis\")\n",
    "ax.legend()\n",
    "plt.show()"
   ]
  },
  {
   "cell_type": "code",
   "execution_count": 126,
   "metadata": {
    "scrolled": true
   },
   "outputs": [
    {
     "data": {
      "text/plain": [
       "289695.3333333333"
      ]
     },
     "execution_count": 126,
     "metadata": {},
     "output_type": "execute_result"
    }
   ],
   "source": [
    "last3"
   ]
  },
  {
   "cell_type": "code",
   "execution_count": 127,
   "metadata": {},
   "outputs": [
    {
     "data": {
      "image/png": "[encoded data removed]",
      "text/plain": [
       "<Figure size 864x432 with 1 Axes>"
      ]
     },
     "metadata": {
      "needs_background": "light"
     },
     "output_type": "display_data"
    }
   ],
   "source": [
    "cum_cols = [\"cum1\", \"cum2\"]\n",
    "vcw = df.groupby(\"firstDayWeek\", as_index=False)[cum_cols].first()\n",
    "fig, ax = plt.subplots(figsize=(12,6))\n",
    "w = 2\n",
    "p1 = ax.bar(vcw.firstDayWeek+timedelta(days=w/2), vcw.cum1, width=w, color = [(0.6, 0.8, 1)], align='center', label='1a dosi')\n",
    "p2 = ax.bar(vcw.firstDayWeek-timedelta(days=w/2), vcw.cum2, width=w, color = [(0.2, 0.4, 1)], align='center', label='2a dosi')\n",
    "ax.set_title(\"Vacunacions cumulatives setmanals\")\n",
    "ax.set_ylabel(\"num dosis\")\n",
    "ax.legend()\n",
    "plt.show()"
   ]
  },
  {
   "cell_type": "markdown",
   "metadata": {},
   "source": [
    "# Weekly total dosis"
   ]
  },
  {
   "cell_type": "code",
   "execution_count": 132,
   "metadata": {},
   "outputs": [
    {
     "data": {
      "image/png": "[encoded data removed]",
      "text/plain": [
       "<Figure size 864x432 with 1 Axes>"
      ]
     },
     "metadata": {
      "needs_background": "light"
     },
     "output_type": "display_data"
    }
   ],
   "source": [
    "fig, ax = plt.subplots(figsize=(12,6))\n",
    "ax.bar(vw.firstDayWeek, vw.DOSIS_TOTALS, width=2, color = [(0.3, 0.3, 0.3)])\n",
    "ax.set_title(\"Vacunacions setmanals\")\n",
    "ax.set_ylabel(\"num dosis\")\n",
    "plt.show()"
   ]
  },
  {
   "cell_type": "code",
   "execution_count": 204,
   "metadata": {},
   "outputs": [
    {
     "data": {
      "image/png": "[encoded data removed]",
      "text/plain": [
       "<Figure size 864x432 with 1 Axes>"
      ]
     },
     "metadata": {
      "needs_background": "light"
     },
     "output_type": "display_data"
    }
   ],
   "source": [
    "vct = df.groupby(\"firstDayWeek\", as_index=False)[\"cum\"].first()\n",
    "fig, ax = plt.subplots(figsize=(12,6))\n",
    "p1 = ax.bar(vct.firstDayWeek, vct.cum, width=w, color = [(0.3, 0.3, 0.3)], align='center')\n",
    "ax.set_title(\"Vacunacions cumulatives setmanals\")\n",
    "ax.set_ylabel(\"num dosis\")\n",
    "plt.show()"
   ]
  },
  {
   "cell_type": "code",
   "execution_count": 317,
   "metadata": {},
   "outputs": [
    {
     "data": {
      "text/html": [
       "<div>\n",
       "<style scoped>\n",
       "    .dataframe tbody tr th:only-of-type {\n",
       "        vertical-align: middle;\n",
       "    }\n",
       "\n",
       "    .dataframe tbody tr th {\n",
       "        vertical-align: top;\n",
       "    }\n",
       "\n",
       "    .dataframe thead th {\n",
       "        text-align: right;\n",
       "    }\n",
       "</style>\n",
       "<table border=\"1\" class=\"dataframe\">\n",
       "  <thead>\n",
       "    <tr style=\"text-align: right;\">\n",
       "      <th></th>\n",
       "      <th>firstDayWeek</th>\n",
       "    </tr>\n",
       "  </thead>\n",
       "  <tbody>\n",
       "    <tr>\n",
       "      <th>0</th>\n",
       "      <td>2021-08-30</td>\n",
       "    </tr>\n",
       "    <tr>\n",
       "      <th>1</th>\n",
       "      <td>2021-09-06</td>\n",
       "    </tr>\n",
       "    <tr>\n",
       "      <th>2</th>\n",
       "      <td>2021-09-13</td>\n",
       "    </tr>\n",
       "    <tr>\n",
       "      <th>3</th>\n",
       "      <td>2021-09-20</td>\n",
       "    </tr>\n",
       "    <tr>\n",
       "      <th>4</th>\n",
       "      <td>2021-09-27</td>\n",
       "    </tr>\n",
       "    <tr>\n",
       "      <th>5</th>\n",
       "      <td>2021-10-04</td>\n",
       "    </tr>\n",
       "    <tr>\n",
       "      <th>6</th>\n",
       "      <td>2021-10-11</td>\n",
       "    </tr>\n",
       "    <tr>\n",
       "      <th>7</th>\n",
       "      <td>2021-10-18</td>\n",
       "    </tr>\n",
       "    <tr>\n",
       "      <th>8</th>\n",
       "      <td>2021-10-25</td>\n",
       "    </tr>\n",
       "    <tr>\n",
       "      <th>9</th>\n",
       "      <td>2021-11-01</td>\n",
       "    </tr>\n",
       "    <tr>\n",
       "      <th>10</th>\n",
       "      <td>2021-11-08</td>\n",
       "    </tr>\n",
       "    <tr>\n",
       "      <th>11</th>\n",
       "      <td>2021-11-15</td>\n",
       "    </tr>\n",
       "    <tr>\n",
       "      <th>12</th>\n",
       "      <td>2021-11-22</td>\n",
       "    </tr>\n",
       "    <tr>\n",
       "      <th>13</th>\n",
       "      <td>2021-11-29</td>\n",
       "    </tr>\n",
       "    <tr>\n",
       "      <th>14</th>\n",
       "      <td>2021-12-06</td>\n",
       "    </tr>\n",
       "    <tr>\n",
       "      <th>15</th>\n",
       "      <td>2021-12-13</td>\n",
       "    </tr>\n",
       "    <tr>\n",
       "      <th>16</th>\n",
       "      <td>2021-12-20</td>\n",
       "    </tr>\n",
       "    <tr>\n",
       "      <th>17</th>\n",
       "      <td>2021-12-27</td>\n",
       "    </tr>\n",
       "    <tr>\n",
       "      <th>18</th>\n",
       "      <td>2022-01-03</td>\n",
       "    </tr>\n",
       "  </tbody>\n",
       "</table>\n",
       "</div>"
      ],
      "text/plain": [
       "   firstDayWeek\n",
       "0    2021-08-30\n",
       "1    2021-09-06\n",
       "2    2021-09-13\n",
       "3    2021-09-20\n",
       "4    2021-09-27\n",
       "5    2021-10-04\n",
       "6    2021-10-11\n",
       "7    2021-10-18\n",
       "8    2021-10-25\n",
       "9    2021-11-01\n",
       "10   2021-11-08\n",
       "11   2021-11-15\n",
       "12   2021-11-22\n",
       "13   2021-11-29\n",
       "14   2021-12-06\n",
       "15   2021-12-13\n",
       "16   2021-12-20\n",
       "17   2021-12-27\n",
       "18   2022-01-03"
      ]
     },
     "execution_count": 317,
     "metadata": {},
     "output_type": "execute_result"
    }
   ],
   "source": [
    "(vw.firstDayWeek + pd.Timedelta(36, unit='w')).to_frame()"
   ]
  },
  {
   "cell_type": "code",
   "execution_count": 321,
   "metadata": {},
   "outputs": [
    {
     "name": "stderr",
     "output_type": "stream",
     "text": [
      "/Users/arnauquindos/anaconda3/lib/python3.7/site-packages/ipykernel_launcher.py:8: SettingWithCopyWarning: \n",
      "A value is trying to be set on a copy of a slice from a DataFrame.\n",
      "Try using .loc[row_indexer,col_indexer] = value instead\n",
      "\n",
      "See the caveats in the documentation: https://pandas.pydata.org/pandas-docs/stable/user_guide/indexing.html#returning-a-view-versus-a-copy\n",
      "  \n"
     ]
    },
    {
     "data": {
      "image/png": "[encoded data removed]",
      "text/plain": [
       "<Figure size 864x432 with 1 Axes>"
      ]
     },
     "metadata": {
      "needs_background": "light"
     },
     "output_type": "display_data"
    }
   ],
   "source": [
    "# create a future date df\n",
    "ftr =  (vw.firstDayWeek + pd.Timedelta(12, unit='w')).to_frame()\n",
    "ftr['DOSIS_TOTALS'] = round(vw.DOSIS_TOTALS.tail(4).head(3).mean())\n",
    "ftr = ftr[ftr.firstDayWeek>=vw.firstDayWeek.max()]\n",
    "ftr[\"future\"] = 1\n",
    "\n",
    "real = vw[:-1]\n",
    "real[\"future\"] = 0\n",
    "# join the future data\n",
    "df_ftr = pd.concat([real, ftr], ignore_index=True)[[\"firstDayWeek\",\"DOSIS_TOTALS\", \"future\"]]\n",
    "df_ftr[\"cum\"] = df_ftr.DOSIS_TOTALS.cumsum()\n",
    "\n",
    "import matplotlib.transforms as transforms\n",
    "TOTAL_POB = 7560000\n",
    "fig, ax = plt.subplots(figsize=(12,6))\n",
    "ax.set_ylim([0, 1.20*df_ftr.cum.max()])\n",
    "p1 = ax.bar(df_ftr[df_ftr.future==0].firstDayWeek, df_ftr[df_ftr.future==0].cum, \n",
    "            width=w, color = [(0.3, 0.3, 0.3)], align='center')\n",
    "p2 = ax.bar(df_ftr[df_ftr.future==1].firstDayWeek, df_ftr[df_ftr.future==1].cum, \n",
    "            width=w, color = [(0.7, 0.9, 0.7)], align='center')\n",
    "for k in [10,20,30,40]:\n",
    "    pob_k = 0.02*TOTAL_POB*k\n",
    "    ax.axhline(y=pob_k, color=(0.7, 0.7, 0.8))\n",
    "    trans = transforms.blended_transform_factory(\n",
    "    ax.get_yticklabels()[0].get_transform(), ax.transData)\n",
    "    ax.text(1.01,pob_k/ax.get_ylim()[1], \"{:.0f}\".format(k), color=(0.5, 0.5, 0.7), transform=ax.transAxes, \n",
    "        ha=\"left\", va=\"center\")\n",
    "ax.set_title(\"Projeccio vacunacions cumulatives setmanals\")\n",
    "ax.set_ylabel(\"num dosis\")\n",
    "plt.show()"
   ]
  },
  {
   "cell_type": "code",
   "execution_count": 323,
   "metadata": {},
   "outputs": [
    {
     "data": {
      "text/html": [
       "<div>\n",
       "<style scoped>\n",
       "    .dataframe tbody tr th:only-of-type {\n",
       "        vertical-align: middle;\n",
       "    }\n",
       "\n",
       "    .dataframe tbody tr th {\n",
       "        vertical-align: top;\n",
       "    }\n",
       "\n",
       "    .dataframe thead th {\n",
       "        text-align: right;\n",
       "    }\n",
       "</style>\n",
       "<table border=\"1\" class=\"dataframe\">\n",
       "  <thead>\n",
       "    <tr style=\"text-align: right;\">\n",
       "      <th></th>\n",
       "      <th>firstDayWeek</th>\n",
       "      <th>DOSIS_TOTALS</th>\n",
       "      <th>future</th>\n",
       "      <th>cum</th>\n",
       "    </tr>\n",
       "  </thead>\n",
       "  <tbody>\n",
       "    <tr>\n",
       "      <th>0</th>\n",
       "      <td>2020-12-21</td>\n",
       "      <td>804</td>\n",
       "      <td>0</td>\n",
       "      <td>804</td>\n",
       "    </tr>\n",
       "    <tr>\n",
       "      <th>1</th>\n",
       "      <td>2020-12-28</td>\n",
       "      <td>7642</td>\n",
       "      <td>0</td>\n",
       "      <td>8446</td>\n",
       "    </tr>\n",
       "    <tr>\n",
       "      <th>2</th>\n",
       "      <td>2021-01-04</td>\n",
       "      <td>68569</td>\n",
       "      <td>0</td>\n",
       "      <td>77015</td>\n",
       "    </tr>\n",
       "    <tr>\n",
       "      <th>3</th>\n",
       "      <td>2021-01-11</td>\n",
       "      <td>77618</td>\n",
       "      <td>0</td>\n",
       "      <td>154633</td>\n",
       "    </tr>\n",
       "    <tr>\n",
       "      <th>4</th>\n",
       "      <td>2021-01-18</td>\n",
       "      <td>35729</td>\n",
       "      <td>0</td>\n",
       "      <td>190362</td>\n",
       "    </tr>\n",
       "    <tr>\n",
       "      <th>5</th>\n",
       "      <td>2021-01-25</td>\n",
       "      <td>67901</td>\n",
       "      <td>0</td>\n",
       "      <td>258263</td>\n",
       "    </tr>\n",
       "    <tr>\n",
       "      <th>6</th>\n",
       "      <td>2021-02-01</td>\n",
       "      <td>74365</td>\n",
       "      <td>0</td>\n",
       "      <td>332628</td>\n",
       "    </tr>\n",
       "    <tr>\n",
       "      <th>7</th>\n",
       "      <td>2021-02-08</td>\n",
       "      <td>86177</td>\n",
       "      <td>0</td>\n",
       "      <td>418805</td>\n",
       "    </tr>\n",
       "    <tr>\n",
       "      <th>8</th>\n",
       "      <td>2021-02-15</td>\n",
       "      <td>81881</td>\n",
       "      <td>0</td>\n",
       "      <td>500686</td>\n",
       "    </tr>\n",
       "    <tr>\n",
       "      <th>9</th>\n",
       "      <td>2021-02-22</td>\n",
       "      <td>160458</td>\n",
       "      <td>0</td>\n",
       "      <td>661144</td>\n",
       "    </tr>\n",
       "    <tr>\n",
       "      <th>10</th>\n",
       "      <td>2021-03-01</td>\n",
       "      <td>124574</td>\n",
       "      <td>0</td>\n",
       "      <td>785718</td>\n",
       "    </tr>\n",
       "    <tr>\n",
       "      <th>11</th>\n",
       "      <td>2021-03-08</td>\n",
       "      <td>112980</td>\n",
       "      <td>0</td>\n",
       "      <td>898698</td>\n",
       "    </tr>\n",
       "    <tr>\n",
       "      <th>12</th>\n",
       "      <td>2021-03-15</td>\n",
       "      <td>118634</td>\n",
       "      <td>0</td>\n",
       "      <td>1017332</td>\n",
       "    </tr>\n",
       "    <tr>\n",
       "      <th>13</th>\n",
       "      <td>2021-03-22</td>\n",
       "      <td>191886</td>\n",
       "      <td>0</td>\n",
       "      <td>1209218</td>\n",
       "    </tr>\n",
       "    <tr>\n",
       "      <th>14</th>\n",
       "      <td>2021-03-29</td>\n",
       "      <td>273464</td>\n",
       "      <td>0</td>\n",
       "      <td>1482682</td>\n",
       "    </tr>\n",
       "    <tr>\n",
       "      <th>15</th>\n",
       "      <td>2021-04-05</td>\n",
       "      <td>292392</td>\n",
       "      <td>0</td>\n",
       "      <td>1775074</td>\n",
       "    </tr>\n",
       "    <tr>\n",
       "      <th>16</th>\n",
       "      <td>2021-04-12</td>\n",
       "      <td>302207</td>\n",
       "      <td>0</td>\n",
       "      <td>2077281</td>\n",
       "    </tr>\n",
       "    <tr>\n",
       "      <th>17</th>\n",
       "      <td>2021-04-19</td>\n",
       "      <td>274487</td>\n",
       "      <td>0</td>\n",
       "      <td>2351768</td>\n",
       "    </tr>\n",
       "    <tr>\n",
       "      <th>18</th>\n",
       "      <td>2021-04-26</td>\n",
       "      <td>289695</td>\n",
       "      <td>1</td>\n",
       "      <td>2641463</td>\n",
       "    </tr>\n",
       "    <tr>\n",
       "      <th>19</th>\n",
       "      <td>2021-05-03</td>\n",
       "      <td>289695</td>\n",
       "      <td>1</td>\n",
       "      <td>2931158</td>\n",
       "    </tr>\n",
       "    <tr>\n",
       "      <th>20</th>\n",
       "      <td>2021-05-10</td>\n",
       "      <td>289695</td>\n",
       "      <td>1</td>\n",
       "      <td>3220853</td>\n",
       "    </tr>\n",
       "    <tr>\n",
       "      <th>21</th>\n",
       "      <td>2021-05-17</td>\n",
       "      <td>289695</td>\n",
       "      <td>1</td>\n",
       "      <td>3510548</td>\n",
       "    </tr>\n",
       "    <tr>\n",
       "      <th>22</th>\n",
       "      <td>2021-05-24</td>\n",
       "      <td>289695</td>\n",
       "      <td>1</td>\n",
       "      <td>3800243</td>\n",
       "    </tr>\n",
       "    <tr>\n",
       "      <th>23</th>\n",
       "      <td>2021-05-31</td>\n",
       "      <td>289695</td>\n",
       "      <td>1</td>\n",
       "      <td>4089938</td>\n",
       "    </tr>\n",
       "    <tr>\n",
       "      <th>24</th>\n",
       "      <td>2021-06-07</td>\n",
       "      <td>289695</td>\n",
       "      <td>1</td>\n",
       "      <td>4379633</td>\n",
       "    </tr>\n",
       "    <tr>\n",
       "      <th>25</th>\n",
       "      <td>2021-06-14</td>\n",
       "      <td>289695</td>\n",
       "      <td>1</td>\n",
       "      <td>4669328</td>\n",
       "    </tr>\n",
       "    <tr>\n",
       "      <th>26</th>\n",
       "      <td>2021-06-21</td>\n",
       "      <td>289695</td>\n",
       "      <td>1</td>\n",
       "      <td>4959023</td>\n",
       "    </tr>\n",
       "    <tr>\n",
       "      <th>27</th>\n",
       "      <td>2021-06-28</td>\n",
       "      <td>289695</td>\n",
       "      <td>1</td>\n",
       "      <td>5248718</td>\n",
       "    </tr>\n",
       "    <tr>\n",
       "      <th>28</th>\n",
       "      <td>2021-07-05</td>\n",
       "      <td>289695</td>\n",
       "      <td>1</td>\n",
       "      <td>5538413</td>\n",
       "    </tr>\n",
       "    <tr>\n",
       "      <th>29</th>\n",
       "      <td>2021-07-12</td>\n",
       "      <td>289695</td>\n",
       "      <td>1</td>\n",
       "      <td>5828108</td>\n",
       "    </tr>\n",
       "    <tr>\n",
       "      <th>30</th>\n",
       "      <td>2021-07-19</td>\n",
       "      <td>289695</td>\n",
       "      <td>1</td>\n",
       "      <td>6117803</td>\n",
       "    </tr>\n",
       "  </tbody>\n",
       "</table>\n",
       "</div>"
      ],
      "text/plain": [
       "   firstDayWeek  DOSIS_TOTALS  future      cum\n",
       "0    2020-12-21           804       0      804\n",
       "1    2020-12-28          7642       0     8446\n",
       "2    2021-01-04         68569       0    77015\n",
       "3    2021-01-11         77618       0   154633\n",
       "4    2021-01-18         35729       0   190362\n",
       "5    2021-01-25         67901       0   258263\n",
       "6    2021-02-01         74365       0   332628\n",
       "7    2021-02-08         86177       0   418805\n",
       "8    2021-02-15         81881       0   500686\n",
       "9    2021-02-22        160458       0   661144\n",
       "10   2021-03-01        124574       0   785718\n",
       "11   2021-03-08        112980       0   898698\n",
       "12   2021-03-15        118634       0  1017332\n",
       "13   2021-03-22        191886       0  1209218\n",
       "14   2021-03-29        273464       0  1482682\n",
       "15   2021-04-05        292392       0  1775074\n",
       "16   2021-04-12        302207       0  2077281\n",
       "17   2021-04-19        274487       0  2351768\n",
       "18   2021-04-26        289695       1  2641463\n",
       "19   2021-05-03        289695       1  2931158\n",
       "20   2021-05-10        289695       1  3220853\n",
       "21   2021-05-17        289695       1  3510548\n",
       "22   2021-05-24        289695       1  3800243\n",
       "23   2021-05-31        289695       1  4089938\n",
       "24   2021-06-07        289695       1  4379633\n",
       "25   2021-06-14        289695       1  4669328\n",
       "26   2021-06-21        289695       1  4959023\n",
       "27   2021-06-28        289695       1  5248718\n",
       "28   2021-07-05        289695       1  5538413\n",
       "29   2021-07-12        289695       1  5828108\n",
       "30   2021-07-19        289695       1  6117803"
      ]
     },
     "execution_count": 323,
     "metadata": {},
     "output_type": "execute_result"
    }
   ],
   "source": [
    "df_ftr"
   ]
  },
  {
   "cell_type": "code",
   "execution_count": null,
   "metadata": {},
   "outputs": [],
   "source": []
  }
 ],
 "metadata": {
  "kernelspec": {
   "display_name": "Python 3",
   "language": "python",
   "name": "python3"
  },
  "language_info": {
   "codemirror_mode": {
    "name": "ipython",
    "version": 3
   },
   "file_extension": ".py",
   "mimetype": "text/x-python",
   "name": "python",
   "nbconvert_exporter": "python",
   "pygments_lexer": "ipython3",
   "version": "3.7.3"
  }
 },
 "nbformat": 4,
 "nbformat_minor": 2
}
